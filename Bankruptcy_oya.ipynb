{
 "cells": [
  {
   "cell_type": "markdown",
   "metadata": {},
   "source": [
    "# Problem description\n",
    "\n",
    "You are to predict whether a company will go bankrupt in the following year, based on financial attributes of the company.\n",
    "\n",
    "Perhaps you are contemplating lending money to a company, and need to know whether the company\n",
    "is in near-term danger of not being able to repay.\n"
   ]
  },
  {
   "cell_type": "markdown",
   "metadata": {},
   "source": [
    "## Goal"
   ]
  },
  {
   "cell_type": "markdown",
   "metadata": {
    "slideshow": {
     "slide_type": "fragment"
    }
   },
   "source": [
    "## Learning objectives\n",
    "\n",
    "- Demonstrate mastery on solving a classification problem and presenting\n",
    "the entire Recipe for Machine Learning process in a notebook.\n",
    "- We will make suggestions for ways to approach the problem\n",
    "    - But there will be little explicit direction for this task.\n",
    "- It is meant to be analogous to a pre-interview task that a potential employer might assign\n",
    "to verify your skill"
   ]
  },
  {
   "cell_type": "markdown",
   "metadata": {},
   "source": [
    "# Import modules"
   ]
  },
  {
   "cell_type": "code",
   "execution_count": 1,
   "metadata": {},
   "outputs": [],
   "source": [
    "## Standard imports\n",
    "import numpy as np\n",
    "import pandas as pd\n",
    "import matplotlib.pyplot as plt\n",
    "\n",
    "import sklearn\n",
    "\n",
    "import os\n",
    "import math\n",
    "\n",
    "%matplotlib inline\n"
   ]
  },
  {
   "cell_type": "markdown",
   "metadata": {},
   "source": [
    "# API for students"
   ]
  },
  {
   "cell_type": "code",
   "execution_count": 2,
   "metadata": {},
   "outputs": [],
   "source": [
    "## Load the bankruptcy_helper module\n",
    "\n",
    "from IPython.core.interactiveshell import InteractiveShell\n",
    "InteractiveShell.ast_node_interactivity = \"all\"\n",
    "\n",
    "# Reload all modules imported with %aimport\n",
    "%load_ext autoreload\n",
    "%autoreload 1\n",
    "\n",
    "# Import bankruptcy_helper module\n",
    "import bankruptcy_helper\n",
    "%aimport bankruptcy_helper\n",
    "\n",
    "helper = bankruptcy_helper.Helper()"
   ]
  },
  {
   "cell_type": "markdown",
   "metadata": {},
   "source": [
    "# Get the data\n",
    "\n",
    "The first step in our Recipe is Get the Data.\n",
    "\n",
    "- Each example is a row of data corresponding to a single company\n",
    "- There are 64 attributes, described in the section below\n",
    "- The column `Bankrupt` is 1 if the company subsequently went bankrupt; 0 if it did not go bankrupt\n",
    "- The column `Id` is a Company Identifier"
   ]
  },
  {
   "cell_type": "code",
   "execution_count": 3,
   "metadata": {
    "scrolled": true
   },
   "outputs": [
    {
     "name": "stdout",
     "output_type": "stream",
     "text": [
      "Date shape:  (4818, 66)\n"
     ]
    }
   ],
   "source": [
    "# Data directory\n",
    "DATA_DIR = \"./Data\"\n",
    "\n",
    "if not os.path.isdir(DATA_DIR):\n",
    "    DATA_DIR = \"../resource/asnlib/publicdata/bankruptcy/data\"\n",
    "\n",
    "data_file = \"5th_yr.csv\"\n",
    "data = pd.read_csv( os.path.join(DATA_DIR, \"train\", data_file) )\n",
    "\n",
    "target_attr = \"Bankrupt\"\n",
    "\n",
    "n_samples, n_attrs = data.shape\n",
    "print(\"Date shape: \", data.shape)"
   ]
  },
  {
   "cell_type": "markdown",
   "metadata": {},
   "source": [
    "## Have a look at the data\n",
    "\n",
    "We will not go through all steps in the Recipe, nor in depth.\n",
    "\n",
    "But here's a peek"
   ]
  },
  {
   "cell_type": "code",
   "execution_count": 4,
   "metadata": {},
   "outputs": [
    {
     "data": {
      "text/html": [
       "<div>\n",
       "<style scoped>\n",
       "    .dataframe tbody tr th:only-of-type {\n",
       "        vertical-align: middle;\n",
       "    }\n",
       "\n",
       "    .dataframe tbody tr th {\n",
       "        vertical-align: top;\n",
       "    }\n",
       "\n",
       "    .dataframe thead th {\n",
       "        text-align: right;\n",
       "    }\n",
       "</style>\n",
       "<table border=\"1\" class=\"dataframe\">\n",
       "  <thead>\n",
       "    <tr style=\"text-align: right;\">\n",
       "      <th></th>\n",
       "      <th>X1</th>\n",
       "      <th>X2</th>\n",
       "      <th>X3</th>\n",
       "      <th>X4</th>\n",
       "      <th>X5</th>\n",
       "      <th>X6</th>\n",
       "      <th>X7</th>\n",
       "      <th>X8</th>\n",
       "      <th>X9</th>\n",
       "      <th>X10</th>\n",
       "      <th>...</th>\n",
       "      <th>X57</th>\n",
       "      <th>X58</th>\n",
       "      <th>X59</th>\n",
       "      <th>X60</th>\n",
       "      <th>X61</th>\n",
       "      <th>X62</th>\n",
       "      <th>X63</th>\n",
       "      <th>X64</th>\n",
       "      <th>Bankrupt</th>\n",
       "      <th>Id</th>\n",
       "    </tr>\n",
       "  </thead>\n",
       "  <tbody>\n",
       "    <tr>\n",
       "      <th>0</th>\n",
       "      <td>0.025417</td>\n",
       "      <td>0.41769</td>\n",
       "      <td>0.0568</td>\n",
       "      <td>1.1605</td>\n",
       "      <td>-126.39</td>\n",
       "      <td>0.41355</td>\n",
       "      <td>0.025417</td>\n",
       "      <td>1.2395</td>\n",
       "      <td>1.16500</td>\n",
       "      <td>0.51773</td>\n",
       "      <td>...</td>\n",
       "      <td>0.049094</td>\n",
       "      <td>0.85835</td>\n",
       "      <td>0.12322</td>\n",
       "      <td>5.6167</td>\n",
       "      <td>7.4042</td>\n",
       "      <td>164.310</td>\n",
       "      <td>2.2214</td>\n",
       "      <td>1.334</td>\n",
       "      <td>0</td>\n",
       "      <td>4510</td>\n",
       "    </tr>\n",
       "    <tr>\n",
       "      <th>1</th>\n",
       "      <td>-0.023834</td>\n",
       "      <td>0.2101</td>\n",
       "      <td>0.50839</td>\n",
       "      <td>4.2374</td>\n",
       "      <td>22.034</td>\n",
       "      <td>0.058412</td>\n",
       "      <td>-0.027621</td>\n",
       "      <td>3.6579</td>\n",
       "      <td>0.98183</td>\n",
       "      <td>0.76855</td>\n",
       "      <td>...</td>\n",
       "      <td>-0.031011</td>\n",
       "      <td>1.01850</td>\n",
       "      <td>0.069047</td>\n",
       "      <td>5.7996</td>\n",
       "      <td>7.7529</td>\n",
       "      <td>26.446</td>\n",
       "      <td>13.802</td>\n",
       "      <td>6.4782</td>\n",
       "      <td>0</td>\n",
       "      <td>3537</td>\n",
       "    </tr>\n",
       "    <tr>\n",
       "      <th>2</th>\n",
       "      <td>0.030515</td>\n",
       "      <td>0.44606</td>\n",
       "      <td>0.19569</td>\n",
       "      <td>1.565</td>\n",
       "      <td>35.766</td>\n",
       "      <td>0.28196</td>\n",
       "      <td>0.039264</td>\n",
       "      <td>0.88456</td>\n",
       "      <td>1.05260</td>\n",
       "      <td>0.39457</td>\n",
       "      <td>...</td>\n",
       "      <td>0.077337</td>\n",
       "      <td>0.95006</td>\n",
       "      <td>0.25266</td>\n",
       "      <td>15.049</td>\n",
       "      <td>2.8179</td>\n",
       "      <td>104.730</td>\n",
       "      <td>3.4852</td>\n",
       "      <td>2.6361</td>\n",
       "      <td>0</td>\n",
       "      <td>3920</td>\n",
       "    </tr>\n",
       "    <tr>\n",
       "      <th>3</th>\n",
       "      <td>0.052318</td>\n",
       "      <td>0.056366</td>\n",
       "      <td>0.54562</td>\n",
       "      <td>10.68</td>\n",
       "      <td>438.2</td>\n",
       "      <td>0.13649</td>\n",
       "      <td>0.058164</td>\n",
       "      <td>10.853</td>\n",
       "      <td>1.02790</td>\n",
       "      <td>0.61173</td>\n",
       "      <td>...</td>\n",
       "      <td>0.085524</td>\n",
       "      <td>0.97282</td>\n",
       "      <td>0</td>\n",
       "      <td>6.0157</td>\n",
       "      <td>7.4626</td>\n",
       "      <td>48.756</td>\n",
       "      <td>7.4863</td>\n",
       "      <td>1.0602</td>\n",
       "      <td>0</td>\n",
       "      <td>1806</td>\n",
       "    </tr>\n",
       "    <tr>\n",
       "      <th>4</th>\n",
       "      <td>0.000992</td>\n",
       "      <td>0.49712</td>\n",
       "      <td>0.12316</td>\n",
       "      <td>1.3036</td>\n",
       "      <td>-71.398</td>\n",
       "      <td>0</td>\n",
       "      <td>0.001007</td>\n",
       "      <td>1.0116</td>\n",
       "      <td>1.29210</td>\n",
       "      <td>0.50288</td>\n",
       "      <td>...</td>\n",
       "      <td>0.001974</td>\n",
       "      <td>0.99925</td>\n",
       "      <td>0.019736</td>\n",
       "      <td>3.4819</td>\n",
       "      <td>8.582</td>\n",
       "      <td>114.580</td>\n",
       "      <td>3.1854</td>\n",
       "      <td>2.742</td>\n",
       "      <td>0</td>\n",
       "      <td>1529</td>\n",
       "    </tr>\n",
       "  </tbody>\n",
       "</table>\n",
       "<p>5 rows × 66 columns</p>\n",
       "</div>"
      ],
      "text/plain": [
       "          X1        X2       X3      X4       X5        X6         X7  \\\n",
       "0   0.025417   0.41769   0.0568  1.1605  -126.39   0.41355   0.025417   \n",
       "1  -0.023834    0.2101  0.50839  4.2374   22.034  0.058412  -0.027621   \n",
       "2   0.030515   0.44606  0.19569   1.565   35.766   0.28196   0.039264   \n",
       "3   0.052318  0.056366  0.54562   10.68    438.2   0.13649   0.058164   \n",
       "4   0.000992   0.49712  0.12316  1.3036  -71.398         0   0.001007   \n",
       "\n",
       "        X8       X9      X10  ...        X57      X58       X59     X60  \\\n",
       "0   1.2395  1.16500  0.51773  ...   0.049094  0.85835   0.12322  5.6167   \n",
       "1   3.6579  0.98183  0.76855  ...  -0.031011  1.01850  0.069047  5.7996   \n",
       "2  0.88456  1.05260  0.39457  ...   0.077337  0.95006   0.25266  15.049   \n",
       "3   10.853  1.02790  0.61173  ...   0.085524  0.97282         0  6.0157   \n",
       "4   1.0116  1.29210  0.50288  ...   0.001974  0.99925  0.019736  3.4819   \n",
       "\n",
       "      X61      X62     X63     X64  Bankrupt    Id  \n",
       "0  7.4042  164.310  2.2214   1.334         0  4510  \n",
       "1  7.7529   26.446  13.802  6.4782         0  3537  \n",
       "2  2.8179  104.730  3.4852  2.6361         0  3920  \n",
       "3  7.4626   48.756  7.4863  1.0602         0  1806  \n",
       "4   8.582  114.580  3.1854   2.742         0  1529  \n",
       "\n",
       "[5 rows x 66 columns]"
      ]
     },
     "execution_count": 4,
     "metadata": {},
     "output_type": "execute_result"
    }
   ],
   "source": [
    "data.head()"
   ]
  },
  {
   "cell_type": "markdown",
   "metadata": {},
   "source": [
    "Pretty *unhelpful* !\n",
    "\n",
    "What are these mysteriously named features ?\n",
    "\n",
    "## Description of attributes"
   ]
  },
  {
   "cell_type": "raw",
   "metadata": {},
   "source": [
    "Attribute Information:\n",
    "\n",
    "Id Company Identifier \n",
    "X1 net profit / total assets\n",
    "X2 total liabilities / total assets\n",
    "X3 working capital / total assets\n",
    "X4 current assets / short-term liabilities\n",
    "X5 [(cash + short-term securities + receivables - short-term liabilities) / (operating expenses - depreciation)] * 365\n",
    "X6 retained earnings / total assets\n",
    "X7 EBIT / total assets\n",
    "X8 book value of equity / total liabilities\n",
    "X9 sales / total assets\n",
    "X10 equity / total assets\n",
    "X11 (gross profit + extraordinary items + financial expenses) / total assets\n",
    "X12 gross profit / short-term liabilities\n",
    "X13 (gross profit + depreciation) / sales\n",
    "X14 (gross profit + interest) / total assets\n",
    "X15 (total liabilities * 365) / (gross profit + depreciation)\n",
    "X16 (gross profit + depreciation) / total liabilities\n",
    "X17 total assets / total liabilities\n",
    "X18 gross profit / total assets\n",
    "X19 gross profit / sales\n",
    "X20 (inventory * 365) / sales\n",
    "X21 sales (n) / sales (n-1)\n",
    "X22 profit on operating activities / total assets\n",
    "X23 net profit / sales\n",
    "X24 gross profit (in 3 years) / total assets\n",
    "X25 (equity - share capital) / total assets\n",
    "X26 (net profit + depreciation) / total liabilities\n",
    "X27 profit on operating activities / financial expenses\n",
    "X28 working capital / fixed assets\n",
    "X29 logarithm of total assets\n",
    "X30 (total liabilities - cash) / sales\n",
    "X31 (gross profit + interest) / sales\n",
    "X32 (current liabilities * 365) / cost of products sold\n",
    "X33 operating expenses / short-term liabilities\n",
    "X34 operating expenses / total liabilities\n",
    "X35 profit on sales / total assets\n",
    "X36 total sales / total assets\n",
    "X37 (current assets - inventories) / long-term liabilities\n",
    "X38 constant capital / total assets\n",
    "X39 profit on sales / sales\n",
    "X40 (current assets - inventory - receivables) / short-term liabilities\n",
    "X41 total liabilities / ((profit on operating activities + depreciation) * (12/365))\n",
    "X42 profit on operating activities / sales\n",
    "X43 rotation receivables + inventory turnover in days\n",
    "X44 (receivables * 365) / sales\n",
    "X45 net profit / inventory\n",
    "X46 (current assets - inventory) / short-term liabilities\n",
    "X47 (inventory * 365) / cost of products sold\n",
    "X48 EBITDA (profit on operating activities - depreciation) / total assets\n",
    "X49 EBITDA (profit on operating activities - depreciation) / sales\n",
    "X50 current assets / total liabilities\n",
    "X51 short-term liabilities / total assets\n",
    "X52 (short-term liabilities * 365) / cost of products sold)\n",
    "X53 equity / fixed assets\n",
    "X54 constant capital / fixed assets\n",
    "X55 working capital\n",
    "X56 (sales - cost of products sold) / sales\n",
    "X57 (current assets - inventory - short-term liabilities) / (sales - gross profit - depreciation)\n",
    "X58 total costs /total sales\n",
    "X59 long-term liabilities / equity\n",
    "X60 sales / inventory\n",
    "X61 sales / receivables\n",
    "X62 (short-term liabilities *365) / sales\n",
    "X63 sales / short-term liabilities\n",
    "X64 sales / fixed assets\n"
   ]
  },
  {
   "cell_type": "markdown",
   "metadata": {},
   "source": [
    "This may still be somewhat unhelpful for those of you not used to reading Financial Statements.\n",
    "\n",
    "But that's partially the point of the exercise\n",
    "- You can *still* perform Machine Learning *even if* you are not an expert in the problem domain\n",
    "    - That's what makes this a good interview exercise: you can demonstrate your thought process even if you don't know the exact meaning of the terms\n",
    "- Of course: becoming an expert in the domain *will improve* your ability to create better models\n",
    "    - Feature engineering is easier if you understand the features, their inter-relationships, and the relationship to the target"
   ]
  },
  {
   "cell_type": "markdown",
   "metadata": {},
   "source": [
    "Let's get a feel for the data\n",
    "- What is the type of each attribute ?\n"
   ]
  },
  {
   "cell_type": "code",
   "execution_count": 5,
   "metadata": {},
   "outputs": [
    {
     "name": "stdout",
     "output_type": "stream",
     "text": [
      "<class 'pandas.core.frame.DataFrame'>\n",
      "RangeIndex: 4818 entries, 0 to 4817\n",
      "Data columns (total 66 columns):\n",
      " #   Column    Non-Null Count  Dtype  \n",
      "---  ------    --------------  -----  \n",
      " 0   X1        4818 non-null   object \n",
      " 1   X2        4818 non-null   object \n",
      " 2   X3        4818 non-null   object \n",
      " 3   X4        4818 non-null   object \n",
      " 4   X5        4818 non-null   object \n",
      " 5   X6        4818 non-null   object \n",
      " 6   X7        4818 non-null   object \n",
      " 7   X8        4818 non-null   object \n",
      " 8   X9        4818 non-null   float64\n",
      " 9   X10       4818 non-null   object \n",
      " 10  X11       4818 non-null   object \n",
      " 11  X12       4818 non-null   object \n",
      " 12  X13       4818 non-null   float64\n",
      " 13  X14       4818 non-null   object \n",
      " 14  X15       4818 non-null   object \n",
      " 15  X16       4818 non-null   object \n",
      " 16  X17       4818 non-null   object \n",
      " 17  X18       4818 non-null   object \n",
      " 18  X19       4818 non-null   float64\n",
      " 19  X20       4818 non-null   float64\n",
      " 20  X21       4818 non-null   object \n",
      " 21  X22       4818 non-null   object \n",
      " 22  X23       4818 non-null   float64\n",
      " 23  X24       4818 non-null   object \n",
      " 24  X25       4818 non-null   object \n",
      " 25  X26       4818 non-null   object \n",
      " 26  X27       4818 non-null   object \n",
      " 27  X28       4818 non-null   object \n",
      " 28  X29       4818 non-null   object \n",
      " 29  X30       4818 non-null   float64\n",
      " 30  X31       4818 non-null   float64\n",
      " 31  X32       4818 non-null   object \n",
      " 32  X33       4818 non-null   object \n",
      " 33  X34       4818 non-null   object \n",
      " 34  X35       4818 non-null   object \n",
      " 35  X36       4818 non-null   object \n",
      " 36  X37       4818 non-null   object \n",
      " 37  X38       4818 non-null   object \n",
      " 38  X39       4818 non-null   float64\n",
      " 39  X40       4818 non-null   object \n",
      " 40  X41       4818 non-null   object \n",
      " 41  X42       4818 non-null   float64\n",
      " 42  X43       4818 non-null   float64\n",
      " 43  X44       4818 non-null   float64\n",
      " 44  X45       4818 non-null   object \n",
      " 45  X46       4818 non-null   object \n",
      " 46  X47       4818 non-null   object \n",
      " 47  X48       4818 non-null   object \n",
      " 48  X49       4818 non-null   float64\n",
      " 49  X50       4818 non-null   object \n",
      " 50  X51       4818 non-null   object \n",
      " 51  X52       4818 non-null   object \n",
      " 52  X53       4818 non-null   object \n",
      " 53  X54       4818 non-null   object \n",
      " 54  X55       4818 non-null   float64\n",
      " 55  X56       4818 non-null   float64\n",
      " 56  X57       4818 non-null   object \n",
      " 57  X58       4818 non-null   float64\n",
      " 58  X59       4818 non-null   object \n",
      " 59  X60       4818 non-null   object \n",
      " 60  X61       4818 non-null   object \n",
      " 61  X62       4818 non-null   float64\n",
      " 62  X63       4818 non-null   object \n",
      " 63  X64       4818 non-null   object \n",
      " 64  Bankrupt  4818 non-null   int64  \n",
      " 65  Id        4818 non-null   int64  \n",
      "dtypes: float64(16), int64(2), object(48)\n",
      "memory usage: 2.4+ MB\n"
     ]
    }
   ],
   "source": [
    "data.info()"
   ]
  },
  {
   "cell_type": "markdown",
   "metadata": {},
   "source": [
    "You may be puzzled:\n",
    "- Most attributes are `object` and *not* numeric (`float64`)\n",
    "- But looking at the data via `data.head()` certainly gives the impression that all attributes are numeric\n",
    "\n",
    "Welcome to the world of messy data !  The dataset has represented numbers as strings.\n",
    "- These little unexpected challenges are common in the real-word\n",
    "- Data is rarely perfect and clean"
   ]
  },
  {
   "cell_type": "markdown",
   "metadata": {},
   "source": [
    "So you might want to first convert all attributes to numeric\n",
    "\n",
    "**Hint**\n",
    "- Look up the Pandas method `to_numeric`\n",
    "    - We suggest you use the option `errors='coerce'`\n",
    "    "
   ]
  },
  {
   "cell_type": "markdown",
   "metadata": {},
   "source": [
    "# Evaluating your project"
   ]
  },
  {
   "cell_type": "markdown",
   "metadata": {},
   "source": [
    "We will evaluate your submission on a test dataset that we provide\n",
    "- It has no labels, so **you** can't use it to evaluate your model, but **we** have the labels\n",
    "- We will call this evaluation dataset the \"holdout\" data\n",
    "\n",
    "Let's get it"
   ]
  },
  {
   "cell_type": "code",
   "execution_count": 6,
   "metadata": {},
   "outputs": [
    {
     "name": "stdout",
     "output_type": "stream",
     "text": [
      "Data shape:  (1092, 65)\n"
     ]
    }
   ],
   "source": [
    "holdout_data = pd.read_csv( os.path.join(DATA_DIR, \"holdout\", '5th_yr.csv') )\n",
    "\n",
    "print(\"Data shape: \", holdout_data.shape)\n"
   ]
  },
  {
   "cell_type": "markdown",
   "metadata": {},
   "source": [
    "We will evaluate your model on the holdout examples using metrics\n",
    "- Accuracy\n",
    "- Recall\n",
    "- Precision\n",
    "\n",
    "From our lecture: we may have to make a trade-off between Recall and Precision.\n",
    "\n",
    "Our evaluation of your submission will be partially based on how you made (and described) the trade-off.\n",
    "\n",
    "You may assume that it is 5 times worse to *fail to identify a company that will go bankrupt*\n",
    "than it is to fail to identify a company that won't go bankrupt."
   ]
  },
  {
   "cell_type": "markdown",
   "metadata": {},
   "source": [
    "# Your model\n",
    "\n",
    "Time for you to continue the Recipe for Machine Learning on your own.\n",
    "\n"
   ]
  },
  {
   "cell_type": "markdown",
   "metadata": {},
   "source": [
    "<html>\n",
    "<p style=\"font-size:32px\"><strong>1. Data Cleaning</strong></p>\n",
    "</html>\n",
    "\n",
    "<html>\n",
    "<p style=\"font-size:26px\"><strong>1.1 Show the Missing Data</strong></p>\n",
    "</html>\n",
    "\n",
    "From the table below, we can see that there are lots of \"?\" in the dataset. So let us apply the to_numeric function in pandas to convert all the numbers and strings into float."
   ]
  },
  {
   "cell_type": "code",
   "execution_count": 7,
   "metadata": {},
   "outputs": [
    {
     "data": {
      "text/html": [
       "<div>\n",
       "<style scoped>\n",
       "    .dataframe tbody tr th:only-of-type {\n",
       "        vertical-align: middle;\n",
       "    }\n",
       "\n",
       "    .dataframe tbody tr th {\n",
       "        vertical-align: top;\n",
       "    }\n",
       "\n",
       "    .dataframe thead th {\n",
       "        text-align: right;\n",
       "    }\n",
       "</style>\n",
       "<table border=\"1\" class=\"dataframe\">\n",
       "  <thead>\n",
       "    <tr style=\"text-align: right;\">\n",
       "      <th></th>\n",
       "      <th>X1</th>\n",
       "      <th>X2</th>\n",
       "      <th>X3</th>\n",
       "      <th>X4</th>\n",
       "      <th>X5</th>\n",
       "      <th>X6</th>\n",
       "      <th>X7</th>\n",
       "      <th>X8</th>\n",
       "      <th>X9</th>\n",
       "      <th>X10</th>\n",
       "      <th>...</th>\n",
       "      <th>X57</th>\n",
       "      <th>X58</th>\n",
       "      <th>X59</th>\n",
       "      <th>X60</th>\n",
       "      <th>X61</th>\n",
       "      <th>X62</th>\n",
       "      <th>X63</th>\n",
       "      <th>X64</th>\n",
       "      <th>Bankrupt</th>\n",
       "      <th>Id</th>\n",
       "    </tr>\n",
       "  </thead>\n",
       "  <tbody>\n",
       "    <tr>\n",
       "      <th>466</th>\n",
       "      <td>0</td>\n",
       "      <td>0</td>\n",
       "      <td>0.44915</td>\n",
       "      <td>?</td>\n",
       "      <td>6792.3</td>\n",
       "      <td>0</td>\n",
       "      <td>0</td>\n",
       "      <td>?</td>\n",
       "      <td>1.825800</td>\n",
       "      <td>0.54961</td>\n",
       "      <td>...</td>\n",
       "      <td>0</td>\n",
       "      <td>0.54771</td>\n",
       "      <td>0</td>\n",
       "      <td>2.2926</td>\n",
       "      <td>0.11672</td>\n",
       "      <td>0.0</td>\n",
       "      <td>?</td>\n",
       "      <td>0.89252</td>\n",
       "      <td>0</td>\n",
       "      <td>3007</td>\n",
       "    </tr>\n",
       "    <tr>\n",
       "      <th>577</th>\n",
       "      <td>-463.89</td>\n",
       "      <td>0</td>\n",
       "      <td>0</td>\n",
       "      <td>?</td>\n",
       "      <td>0</td>\n",
       "      <td>-463.89</td>\n",
       "      <td>-463.89</td>\n",
       "      <td>?</td>\n",
       "      <td>0.871600</td>\n",
       "      <td>266.86</td>\n",
       "      <td>...</td>\n",
       "      <td>-1.7384</td>\n",
       "      <td>1.14730</td>\n",
       "      <td>0</td>\n",
       "      <td>6.9498</td>\n",
       "      <td>?</td>\n",
       "      <td>0.0</td>\n",
       "      <td>?</td>\n",
       "      <td>28999</td>\n",
       "      <td>1</td>\n",
       "      <td>4575</td>\n",
       "    </tr>\n",
       "    <tr>\n",
       "      <th>655</th>\n",
       "      <td>0</td>\n",
       "      <td>0</td>\n",
       "      <td>0.36932</td>\n",
       "      <td>?</td>\n",
       "      <td>-3227.9</td>\n",
       "      <td>0</td>\n",
       "      <td>0</td>\n",
       "      <td>?</td>\n",
       "      <td>0.635900</td>\n",
       "      <td>0.70944</td>\n",
       "      <td>...</td>\n",
       "      <td>0</td>\n",
       "      <td>1.57260</td>\n",
       "      <td>0</td>\n",
       "      <td>-12.44</td>\n",
       "      <td>-0.092493</td>\n",
       "      <td>0.0</td>\n",
       "      <td>?</td>\n",
       "      <td>-3.7265</td>\n",
       "      <td>0</td>\n",
       "      <td>3724</td>\n",
       "    </tr>\n",
       "    <tr>\n",
       "      <th>1756</th>\n",
       "      <td>0.005403</td>\n",
       "      <td>0</td>\n",
       "      <td>1</td>\n",
       "      <td>?</td>\n",
       "      <td>0</td>\n",
       "      <td>0</td>\n",
       "      <td>0.006683</td>\n",
       "      <td>?</td>\n",
       "      <td>0.044334</td>\n",
       "      <td>1</td>\n",
       "      <td>...</td>\n",
       "      <td>0.005403</td>\n",
       "      <td>0.93883</td>\n",
       "      <td>0</td>\n",
       "      <td>0.063232</td>\n",
       "      <td>?</td>\n",
       "      <td>0.0</td>\n",
       "      <td>?</td>\n",
       "      <td>?</td>\n",
       "      <td>0</td>\n",
       "      <td>2035</td>\n",
       "    </tr>\n",
       "    <tr>\n",
       "      <th>1974</th>\n",
       "      <td>0.14394</td>\n",
       "      <td>0</td>\n",
       "      <td>0.41299</td>\n",
       "      <td>?</td>\n",
       "      <td>63.962</td>\n",
       "      <td>0.30062</td>\n",
       "      <td>0.14394</td>\n",
       "      <td>?</td>\n",
       "      <td>1.068600</td>\n",
       "      <td>0</td>\n",
       "      <td>...</td>\n",
       "      <td>?</td>\n",
       "      <td>0.93582</td>\n",
       "      <td>?</td>\n",
       "      <td>22.667</td>\n",
       "      <td>9.014</td>\n",
       "      <td>0.0</td>\n",
       "      <td>?</td>\n",
       "      <td>3.3814</td>\n",
       "      <td>0</td>\n",
       "      <td>3962</td>\n",
       "    </tr>\n",
       "    <tr>\n",
       "      <th>2000</th>\n",
       "      <td>0.79823</td>\n",
       "      <td>0</td>\n",
       "      <td>1</td>\n",
       "      <td>?</td>\n",
       "      <td>126.55</td>\n",
       "      <td>-1.0582</td>\n",
       "      <td>0.90137</td>\n",
       "      <td>?</td>\n",
       "      <td>3.745900</td>\n",
       "      <td>1</td>\n",
       "      <td>...</td>\n",
       "      <td>0.79823</td>\n",
       "      <td>0.75939</td>\n",
       "      <td>0</td>\n",
       "      <td>?</td>\n",
       "      <td>16.293</td>\n",
       "      <td>0.0</td>\n",
       "      <td>?</td>\n",
       "      <td>?</td>\n",
       "      <td>0</td>\n",
       "      <td>2050</td>\n",
       "    </tr>\n",
       "    <tr>\n",
       "      <th>2690</th>\n",
       "      <td>0.29175</td>\n",
       "      <td>0</td>\n",
       "      <td>0.90259</td>\n",
       "      <td>?</td>\n",
       "      <td>37.089</td>\n",
       "      <td>-0.30642</td>\n",
       "      <td>0.36006</td>\n",
       "      <td>?</td>\n",
       "      <td>8.888500</td>\n",
       "      <td>1</td>\n",
       "      <td>...</td>\n",
       "      <td>0.29175</td>\n",
       "      <td>0.96089</td>\n",
       "      <td>0</td>\n",
       "      <td>?</td>\n",
       "      <td>21.597</td>\n",
       "      <td>0.0</td>\n",
       "      <td>?</td>\n",
       "      <td>91.252</td>\n",
       "      <td>0</td>\n",
       "      <td>1383</td>\n",
       "    </tr>\n",
       "    <tr>\n",
       "      <th>2999</th>\n",
       "      <td>0.7983</td>\n",
       "      <td>0</td>\n",
       "      <td>1</td>\n",
       "      <td>?</td>\n",
       "      <td>126.54</td>\n",
       "      <td>-1.0581</td>\n",
       "      <td>0.90144</td>\n",
       "      <td>?</td>\n",
       "      <td>3.745900</td>\n",
       "      <td>1</td>\n",
       "      <td>...</td>\n",
       "      <td>0.7983</td>\n",
       "      <td>0.75938</td>\n",
       "      <td>0</td>\n",
       "      <td>?</td>\n",
       "      <td>16.288</td>\n",
       "      <td>0.0</td>\n",
       "      <td>?</td>\n",
       "      <td>?</td>\n",
       "      <td>1</td>\n",
       "      <td>3973</td>\n",
       "    </tr>\n",
       "    <tr>\n",
       "      <th>3172</th>\n",
       "      <td>0</td>\n",
       "      <td>0</td>\n",
       "      <td>1.3854</td>\n",
       "      <td>?</td>\n",
       "      <td>8424.7</td>\n",
       "      <td>0</td>\n",
       "      <td>0</td>\n",
       "      <td>?</td>\n",
       "      <td>1.472400</td>\n",
       "      <td>4.1294</td>\n",
       "      <td>...</td>\n",
       "      <td>0</td>\n",
       "      <td>0.67918</td>\n",
       "      <td>0</td>\n",
       "      <td>0.6308</td>\n",
       "      <td>0.08221</td>\n",
       "      <td>0.0</td>\n",
       "      <td>?</td>\n",
       "      <td>0.27858</td>\n",
       "      <td>0</td>\n",
       "      <td>3797</td>\n",
       "    </tr>\n",
       "    <tr>\n",
       "      <th>3328</th>\n",
       "      <td>0</td>\n",
       "      <td>0</td>\n",
       "      <td>17.631</td>\n",
       "      <td>?</td>\n",
       "      <td>10273</td>\n",
       "      <td>0</td>\n",
       "      <td>0</td>\n",
       "      <td>?</td>\n",
       "      <td>1.278400</td>\n",
       "      <td>21.653</td>\n",
       "      <td>...</td>\n",
       "      <td>0</td>\n",
       "      <td>0.78224</td>\n",
       "      <td>0</td>\n",
       "      <td>4.3072</td>\n",
       "      <td>0.073551</td>\n",
       "      <td>0.0</td>\n",
       "      <td>?</td>\n",
       "      <td>0.42187</td>\n",
       "      <td>0</td>\n",
       "      <td>2902</td>\n",
       "    </tr>\n",
       "    <tr>\n",
       "      <th>3337</th>\n",
       "      <td>?</td>\n",
       "      <td>?</td>\n",
       "      <td>?</td>\n",
       "      <td>?</td>\n",
       "      <td>3825.1</td>\n",
       "      <td>?</td>\n",
       "      <td>?</td>\n",
       "      <td>?</td>\n",
       "      <td>0.838940</td>\n",
       "      <td>?</td>\n",
       "      <td>...</td>\n",
       "      <td>0</td>\n",
       "      <td>1.19200</td>\n",
       "      <td>0</td>\n",
       "      <td>0.46523</td>\n",
       "      <td>0.15025</td>\n",
       "      <td>0.0</td>\n",
       "      <td>?</td>\n",
       "      <td>3.7643</td>\n",
       "      <td>0</td>\n",
       "      <td>1845</td>\n",
       "    </tr>\n",
       "    <tr>\n",
       "      <th>3639</th>\n",
       "      <td>0.18159</td>\n",
       "      <td>0</td>\n",
       "      <td>1</td>\n",
       "      <td>?</td>\n",
       "      <td>41.034</td>\n",
       "      <td>-0.50524</td>\n",
       "      <td>0.18159</td>\n",
       "      <td>?</td>\n",
       "      <td>5.215700</td>\n",
       "      <td>1</td>\n",
       "      <td>...</td>\n",
       "      <td>0.18159</td>\n",
       "      <td>0.96588</td>\n",
       "      <td>0</td>\n",
       "      <td>12.467</td>\n",
       "      <td>9.2532</td>\n",
       "      <td>0.0</td>\n",
       "      <td>?</td>\n",
       "      <td>?</td>\n",
       "      <td>0</td>\n",
       "      <td>2745</td>\n",
       "    </tr>\n",
       "    <tr>\n",
       "      <th>3884</th>\n",
       "      <td>0</td>\n",
       "      <td>0</td>\n",
       "      <td>28.336</td>\n",
       "      <td>?</td>\n",
       "      <td>2874.5</td>\n",
       "      <td>0</td>\n",
       "      <td>0</td>\n",
       "      <td>?</td>\n",
       "      <td>1.028600</td>\n",
       "      <td>6.1142</td>\n",
       "      <td>...</td>\n",
       "      <td>0</td>\n",
       "      <td>0.97223</td>\n",
       "      <td>0</td>\n",
       "      <td>3.7876</td>\n",
       "      <td>0.24245</td>\n",
       "      <td>0.0</td>\n",
       "      <td>?</td>\n",
       "      <td>0.80648</td>\n",
       "      <td>0</td>\n",
       "      <td>5455</td>\n",
       "    </tr>\n",
       "    <tr>\n",
       "      <th>4194</th>\n",
       "      <td>-0.016118</td>\n",
       "      <td>0</td>\n",
       "      <td>0.77778</td>\n",
       "      <td>?</td>\n",
       "      <td>796.41</td>\n",
       "      <td>-1.7604</td>\n",
       "      <td>-0.016118</td>\n",
       "      <td>?</td>\n",
       "      <td>0.348780</td>\n",
       "      <td>1</td>\n",
       "      <td>...</td>\n",
       "      <td>-0.016118</td>\n",
       "      <td>1.04620</td>\n",
       "      <td>0</td>\n",
       "      <td>9.0287</td>\n",
       "      <td>550</td>\n",
       "      <td>0.0</td>\n",
       "      <td>?</td>\n",
       "      <td>1.5696</td>\n",
       "      <td>0</td>\n",
       "      <td>2694</td>\n",
       "    </tr>\n",
       "  </tbody>\n",
       "</table>\n",
       "<p>14 rows × 66 columns</p>\n",
       "</div>"
      ],
      "text/plain": [
       "             X1 X2       X3 X4       X5        X6         X7 X8        X9  \\\n",
       "466           0  0  0.44915  ?   6792.3         0          0  ?  1.825800   \n",
       "577     -463.89  0        0  ?        0   -463.89    -463.89  ?  0.871600   \n",
       "655           0  0  0.36932  ?  -3227.9         0          0  ?  0.635900   \n",
       "1756   0.005403  0        1  ?        0         0   0.006683  ?  0.044334   \n",
       "1974    0.14394  0  0.41299  ?   63.962   0.30062    0.14394  ?  1.068600   \n",
       "2000    0.79823  0        1  ?   126.55   -1.0582    0.90137  ?  3.745900   \n",
       "2690    0.29175  0  0.90259  ?   37.089  -0.30642    0.36006  ?  8.888500   \n",
       "2999     0.7983  0        1  ?   126.54   -1.0581    0.90144  ?  3.745900   \n",
       "3172          0  0   1.3854  ?   8424.7         0          0  ?  1.472400   \n",
       "3328          0  0   17.631  ?    10273         0          0  ?  1.278400   \n",
       "3337          ?  ?        ?  ?   3825.1         ?          ?  ?  0.838940   \n",
       "3639    0.18159  0        1  ?   41.034  -0.50524    0.18159  ?  5.215700   \n",
       "3884          0  0   28.336  ?   2874.5         0          0  ?  1.028600   \n",
       "4194  -0.016118  0  0.77778  ?   796.41   -1.7604  -0.016118  ?  0.348780   \n",
       "\n",
       "          X10  ...        X57      X58  X59       X60        X61  X62 X63  \\\n",
       "466   0.54961  ...          0  0.54771    0    2.2926    0.11672  0.0   ?   \n",
       "577    266.86  ...    -1.7384  1.14730    0    6.9498          ?  0.0   ?   \n",
       "655   0.70944  ...          0  1.57260    0    -12.44  -0.092493  0.0   ?   \n",
       "1756        1  ...   0.005403  0.93883    0  0.063232          ?  0.0   ?   \n",
       "1974        0  ...          ?  0.93582    ?    22.667      9.014  0.0   ?   \n",
       "2000        1  ...    0.79823  0.75939    0         ?     16.293  0.0   ?   \n",
       "2690        1  ...    0.29175  0.96089    0         ?     21.597  0.0   ?   \n",
       "2999        1  ...     0.7983  0.75938    0         ?     16.288  0.0   ?   \n",
       "3172   4.1294  ...          0  0.67918    0    0.6308    0.08221  0.0   ?   \n",
       "3328   21.653  ...          0  0.78224    0    4.3072   0.073551  0.0   ?   \n",
       "3337        ?  ...          0  1.19200    0   0.46523    0.15025  0.0   ?   \n",
       "3639        1  ...    0.18159  0.96588    0    12.467     9.2532  0.0   ?   \n",
       "3884   6.1142  ...          0  0.97223    0    3.7876    0.24245  0.0   ?   \n",
       "4194        1  ...  -0.016118  1.04620    0    9.0287        550  0.0   ?   \n",
       "\n",
       "          X64  Bankrupt    Id  \n",
       "466   0.89252         0  3007  \n",
       "577     28999         1  4575  \n",
       "655   -3.7265         0  3724  \n",
       "1756        ?         0  2035  \n",
       "1974   3.3814         0  3962  \n",
       "2000        ?         0  2050  \n",
       "2690   91.252         0  1383  \n",
       "2999        ?         1  3973  \n",
       "3172  0.27858         0  3797  \n",
       "3328  0.42187         0  2902  \n",
       "3337   3.7643         0  1845  \n",
       "3639        ?         0  2745  \n",
       "3884  0.80648         0  5455  \n",
       "4194   1.5696         0  2694  \n",
       "\n",
       "[14 rows x 66 columns]"
      ]
     },
     "execution_count": 7,
     "metadata": {},
     "output_type": "execute_result"
    }
   ],
   "source": [
    "data[data[\"X8\"].eq(\"?\")]"
   ]
  },
  {
   "cell_type": "code",
   "execution_count": 8,
   "metadata": {},
   "outputs": [
    {
     "data": {
      "text/plain": [
       "4818"
      ]
     },
     "execution_count": 8,
     "metadata": {},
     "output_type": "execute_result"
    }
   ],
   "source": [
    "len(data)"
   ]
  },
  {
   "cell_type": "code",
   "execution_count": 9,
   "metadata": {},
   "outputs": [],
   "source": [
    "clean_data = data.copy(deep = True)"
   ]
  },
  {
   "cell_type": "code",
   "execution_count": 10,
   "metadata": {},
   "outputs": [],
   "source": [
    "for i in range(len(data)):\n",
    "    clean_data.loc[i] = pd.to_numeric(data.loc[i] ,errors = \"coerce\")"
   ]
  },
  {
   "cell_type": "code",
   "execution_count": 11,
   "metadata": {},
   "outputs": [],
   "source": [
    "clean_dropna_data = clean_data.dropna()"
   ]
  },
  {
   "cell_type": "code",
   "execution_count": 12,
   "metadata": {},
   "outputs": [
    {
     "data": {
      "text/plain": [
       "2474"
      ]
     },
     "execution_count": 12,
     "metadata": {},
     "output_type": "execute_result"
    }
   ],
   "source": [
    "len(clean_dropna_data)"
   ]
  },
  {
   "cell_type": "markdown",
   "metadata": {},
   "source": [
    "We set the parameter errors equal to coerce in order to convert all the \"?\" to Nan. Then we drop the Nan in the dataset and get a new one clean_dropna_data.\n",
    "\n",
    "Although the dataset is clean right now with all the float value, it does not mean that we can use it without concerns. After dropping Nan, we have thrown away half the dataset which is unacceptablt. We need to do something to rescue our missing dataset."
   ]
  },
  {
   "cell_type": "markdown",
   "metadata": {},
   "source": [
    "<html>\n",
    "<p style=\"font-size:26px\"><strong>1.2 Missing Data Analysis</strong></p>\n",
    "</html>\n",
    "\n",
    "First of all, we want to see where is the missing value located in our dataset. We generate Sparsity Matrix to visualize it."
   ]
  },
  {
   "cell_type": "code",
   "execution_count": 13,
   "metadata": {},
   "outputs": [],
   "source": [
    "for i in range(len(data)):\n",
    "    clean_data.loc[i] = pd.to_numeric(clean_data.loc[i])"
   ]
  },
  {
   "cell_type": "code",
   "execution_count": 14,
   "metadata": {},
   "outputs": [],
   "source": [
    "clean_data = clean_data.astype(\"float\")"
   ]
  },
  {
   "cell_type": "markdown",
   "metadata": {},
   "source": [
    "Right now I am going to use a package that is not included in the anaconda, called missingno. It is useful for analyzing the missing value as well as the relationship betweenthe presence or absence of missing value. It is helpful since it can draw a map and show us the situation of missing value directly."
   ]
  },
  {
   "cell_type": "code",
   "execution_count": 15,
   "metadata": {},
   "outputs": [
    {
     "data": {
      "text/plain": [
       "<matplotlib.axes._subplots.AxesSubplot at 0x7fa253699a30>"
      ]
     },
     "execution_count": 15,
     "metadata": {},
     "output_type": "execute_result"
    },
    {
     "data": {
      "image/png": "[encoded data removed]",
      "text/plain": [
       "<Figure size 1440x360 with 2 Axes>"
      ]
     },
     "metadata": {
      "needs_background": "light"
     },
     "output_type": "display_data"
    }
   ],
   "source": [
    "#!pip install missingno\n",
    "import missingno as msno\n",
    "missing_data = clean_data.columns[clean_data.isna().any()].tolist()\n",
    "msno.matrix(clean_data[missing_data],figsize=(20,5))"
   ]
  },
  {
   "cell_type": "markdown",
   "metadata": {},
   "source": [
    "As we can see, the missing data are concentrated in column X37. Although I really want to throw this column away immediately, I chose to tolerate it and see what can I do to replace it. In order to fill in those Nan, I am trying to see whether there is some other relation between X37 and other columns.\n",
    "\n",
    "After Googling, a Heat Map can guide us through how to deal with these data."
   ]
  },
  {
   "cell_type": "code",
   "execution_count": 16,
   "metadata": {},
   "outputs": [
    {
     "data": {
      "text/plain": [
       "<matplotlib.axes._subplots.AxesSubplot at 0x7fa2536d3b20>"
      ]
     },
     "execution_count": 16,
     "metadata": {},
     "output_type": "execute_result"
    },
    {
     "data": {
      "image/png": "[encoded data removed]",
      "text/plain": [
       "<Figure size 2160x2160 with 2 Axes>"
      ]
     },
     "metadata": {
      "needs_background": "light"
     },
     "output_type": "display_data"
    }
   ],
   "source": [
    "msno.heatmap(clean_data[missing_data],figsize = (30,30))"
   ]
  },
  {
   "cell_type": "markdown",
   "metadata": {},
   "source": [
    "The heatmap mearsures nullity correlation, which means how strongly the variable affects the presence of another. \n",
    "\n",
    "-1 means one variable appears and the other definitely does not\n",
    "\n",
    "0 means variable's presence have no effect on one another\n",
    "\n",
    "1 means if one variable appears then the ohter definitely does\n",
    "\n",
    "We can see that some variables' presences are strongly correlated to others, so this gives a hint to us that some blank can be filled after computation. However, column X37 has no obvious relation to others. We decide to delete the column."
   ]
  },
  {
   "cell_type": "code",
   "execution_count": 17,
   "metadata": {},
   "outputs": [],
   "source": [
    "clean_data_drop = clean_data.drop([\"X37\"],axis = 1)"
   ]
  },
  {
   "cell_type": "code",
   "execution_count": 18,
   "metadata": {},
   "outputs": [],
   "source": [
    "clean_data_dropna = clean_data_drop.dropna()"
   ]
  },
  {
   "cell_type": "code",
   "execution_count": 19,
   "metadata": {},
   "outputs": [
    {
     "name": "stdout",
     "output_type": "stream",
     "text": [
      "<class 'pandas.core.frame.DataFrame'>\n",
      "Int64Index: 4087 entries, 0 to 4817\n",
      "Data columns (total 65 columns):\n",
      " #   Column    Non-Null Count  Dtype  \n",
      "---  ------    --------------  -----  \n",
      " 0   X1        4087 non-null   float64\n",
      " 1   X2        4087 non-null   float64\n",
      " 2   X3        4087 non-null   float64\n",
      " 3   X4        4087 non-null   float64\n",
      " 4   X5        4087 non-null   float64\n",
      " 5   X6        4087 non-null   float64\n",
      " 6   X7        4087 non-null   float64\n",
      " 7   X8        4087 non-null   float64\n",
      " 8   X9        4087 non-null   float64\n",
      " 9   X10       4087 non-null   float64\n",
      " 10  X11       4087 non-null   float64\n",
      " 11  X12       4087 non-null   float64\n",
      " 12  X13       4087 non-null   float64\n",
      " 13  X14       4087 non-null   float64\n",
      " 14  X15       4087 non-null   float64\n",
      " 15  X16       4087 non-null   float64\n",
      " 16  X17       4087 non-null   float64\n",
      " 17  X18       4087 non-null   float64\n",
      " 18  X19       4087 non-null   float64\n",
      " 19  X20       4087 non-null   float64\n",
      " 20  X21       4087 non-null   float64\n",
      " 21  X22       4087 non-null   float64\n",
      " 22  X23       4087 non-null   float64\n",
      " 23  X24       4087 non-null   float64\n",
      " 24  X25       4087 non-null   float64\n",
      " 25  X26       4087 non-null   float64\n",
      " 26  X27       4087 non-null   float64\n",
      " 27  X28       4087 non-null   float64\n",
      " 28  X29       4087 non-null   float64\n",
      " 29  X30       4087 non-null   float64\n",
      " 30  X31       4087 non-null   float64\n",
      " 31  X32       4087 non-null   float64\n",
      " 32  X33       4087 non-null   float64\n",
      " 33  X34       4087 non-null   float64\n",
      " 34  X35       4087 non-null   float64\n",
      " 35  X36       4087 non-null   float64\n",
      " 36  X38       4087 non-null   float64\n",
      " 37  X39       4087 non-null   float64\n",
      " 38  X40       4087 non-null   float64\n",
      " 39  X41       4087 non-null   float64\n",
      " 40  X42       4087 non-null   float64\n",
      " 41  X43       4087 non-null   float64\n",
      " 42  X44       4087 non-null   float64\n",
      " 43  X45       4087 non-null   float64\n",
      " 44  X46       4087 non-null   float64\n",
      " 45  X47       4087 non-null   float64\n",
      " 46  X48       4087 non-null   float64\n",
      " 47  X49       4087 non-null   float64\n",
      " 48  X50       4087 non-null   float64\n",
      " 49  X51       4087 non-null   float64\n",
      " 50  X52       4087 non-null   float64\n",
      " 51  X53       4087 non-null   float64\n",
      " 52  X54       4087 non-null   float64\n",
      " 53  X55       4087 non-null   float64\n",
      " 54  X56       4087 non-null   float64\n",
      " 55  X57       4087 non-null   float64\n",
      " 56  X58       4087 non-null   float64\n",
      " 57  X59       4087 non-null   float64\n",
      " 58  X60       4087 non-null   float64\n",
      " 59  X61       4087 non-null   float64\n",
      " 60  X62       4087 non-null   float64\n",
      " 61  X63       4087 non-null   float64\n",
      " 62  X64       4087 non-null   float64\n",
      " 63  Bankrupt  4087 non-null   float64\n",
      " 64  Id        4087 non-null   float64\n",
      "dtypes: float64(65)\n",
      "memory usage: 2.1 MB\n"
     ]
    }
   ],
   "source": [
    "clean_data_dropna.info()"
   ]
  },
  {
   "cell_type": "markdown",
   "metadata": {},
   "source": [
    "So right now, besides the X37 columns, we also throw away 800 rows data.\n",
    "\n",
    "Since we are trying to make the most optimized model, we decide to make additional manipulation on the data before dropna but after drop X37. We should use imputer from sklearn and choose \"mean\" and \"median\" method in order to compare the performance of this three groups of data."
   ]
  },
  {
   "cell_type": "code",
   "execution_count": 20,
   "metadata": {},
   "outputs": [],
   "source": [
    "from sklearn.impute import SimpleImputer\n",
    "Imp_mean = SimpleImputer(missing_values = np.nan, strategy=\"mean\")\n",
    "Imp_mean_df = pd.DataFrame(Imp_mean.fit_transform(clean_data_drop))\n",
    "\n",
    "Imp_mean_df.columns = clean_data_drop.columns"
   ]
  },
  {
   "cell_type": "code",
   "execution_count": 21,
   "metadata": {},
   "outputs": [],
   "source": [
    "Imp_median = SimpleImputer(missing_values = np.nan, strategy=\"median\")\n",
    "Imp_median_df = pd.DataFrame(Imp_median.fit_transform(clean_data_drop))\n",
    "\n",
    "Imp_median_df.columns = clean_data_drop.columns"
   ]
  },
  {
   "cell_type": "markdown",
   "metadata": {},
   "source": [
    "Try Nearest neighbors imputation too, lets see which is the best."
   ]
  },
  {
   "cell_type": "code",
   "execution_count": 22,
   "metadata": {},
   "outputs": [],
   "source": [
    "from sklearn.impute import KNNImputer\n",
    "Imp_KNN = KNNImputer(n_neighbors = 100, weights = \"uniform\")\n",
    "Imp_KNN_df = pd.DataFrame(Imp_KNN.fit_transform(clean_data_drop))\n",
    "\n",
    "Imp_KNN_df.columns = clean_data_drop.columns"
   ]
  },
  {
   "cell_type": "markdown",
   "metadata": {},
   "source": [
    "\n",
    "# 1.3 checking data unbalance"
   ]
  },
  {
   "cell_type": "code",
   "execution_count": 23,
   "metadata": {},
   "outputs": [],
   "source": [
    "import matplotlib.pyplot as plt\n",
    "data_df = clean_data_dropna\n",
    "temp = data_df[\"Bankrupt\"].value_counts()\n",
    "df = pd.DataFrame({\"Class\":temp.index, \"values\":temp.values})"
   ]
  },
  {
   "cell_type": "code",
   "execution_count": 24,
   "metadata": {},
   "outputs": [
    {
     "data": {
      "text/plain": [
       "Text(0.5, 1.0, 'Brankrupt unbalanced data')"
      ]
     },
     "execution_count": 24,
     "metadata": {},
     "output_type": "execute_result"
    },
    {
     "name": "stderr",
     "output_type": "stream",
     "text": [
      "<ipython-input-24-8340b77ab335>:3: MatplotlibDeprecationWarning: Using a string of single character colors as a color sequence is deprecated. Use an explicit list instead.\n",
      "  plt.bar(df[\"Class\"], df[\"values\"], color = \"rb\", tick_label=labels)\n"
     ]
    },
    {
     "data": {
      "text/plain": [
       "<BarContainer object of 2 artists>"
      ]
     },
     "execution_count": 24,
     "metadata": {},
     "output_type": "execute_result"
    },
    {
     "data": {
      "image/png": "[encoded data removed]",
      "text/plain": [
       "<Figure size 432x288 with 1 Axes>"
      ]
     },
     "metadata": {
      "needs_background": "light"
     },
     "output_type": "display_data"
    }
   ],
   "source": [
    "plt.title(\"Brankrupt unbalanced data\")\n",
    "labels = [\"survive\", \"bankrupt\"]\n",
    "plt.bar(df[\"Class\"], df[\"values\"], color = \"rb\", tick_label=labels)"
   ]
  },
  {
   "cell_type": "markdown",
   "metadata": {},
   "source": [
    "Just pick the dropna data and see what is going on in it. The data is very imbalance and need some adjustments. There is another package called \"imblearn\", is used to oversample data."
   ]
  },
  {
   "cell_type": "code",
   "execution_count": 25,
   "metadata": {},
   "outputs": [],
   "source": [
    "#!pip install imbalanced-learn\n",
    "from imblearn.over_sampling import SMOTE"
   ]
  },
  {
   "cell_type": "markdown",
   "metadata": {},
   "source": [
    "SMOTE stands for Synthetic Minority Oversampling TEchnique, which selects examples that are close in the feature space, drawing a line between the examples in the feature space and drawing a new sample at a point along that line.\n",
    "\n",
    "However, we must oversample the data after train test split. See imblearn in later section."
   ]
  },
  {
   "cell_type": "markdown",
   "metadata": {},
   "source": [
    "# 2 PCA"
   ]
  },
  {
   "cell_type": "code",
   "execution_count": 26,
   "metadata": {},
   "outputs": [],
   "source": [
    "import seaborn as sns"
   ]
  },
  {
   "cell_type": "code",
   "execution_count": 27,
   "metadata": {},
   "outputs": [
    {
     "data": {
      "text/plain": [
       "<Figure size 1440x1440 with 0 Axes>"
      ]
     },
     "execution_count": 27,
     "metadata": {},
     "output_type": "execute_result"
    },
    {
     "data": {
      "text/plain": [
       "Text(0.5, 1.0, 'Bankrupt feature correlation plot')"
      ]
     },
     "execution_count": 27,
     "metadata": {},
     "output_type": "execute_result"
    },
    {
     "data": {
      "text/plain": [
       "<matplotlib.axes._subplots.AxesSubplot at 0x7fa239f7d070>"
      ]
     },
     "execution_count": 27,
     "metadata": {},
     "output_type": "execute_result"
    },
    {
     "data": {
      "image/png": "[encoded data removed]",
      "text/plain": [
       "<Figure size 1440x1440 with 2 Axes>"
      ]
     },
     "metadata": {
      "needs_background": "light"
     },
     "output_type": "display_data"
    }
   ],
   "source": [
    "plt.figure(figsize = (20, 20))\n",
    "plt.title('Bankrupt feature correlation plot')\n",
    "corr = clean_data_drop.corr()\n",
    "sns.heatmap(corr, xticklabels=corr.columns, yticklabels=corr.columns, linewidths=0.1, cmap=\"Reds\")\n",
    "plt.show()"
   ]
  },
  {
   "cell_type": "markdown",
   "metadata": {},
   "source": [
    "We use the heatmap to present the correlation between each feature. The darker the color, the stronger the correlation is. Since the diagnol line represents the correlation equals to 1, we can also find that there are lots of features having strong relation with others. On my first glance, it is neccesary for us to use PCA to reduce the dimension of this data. However, when we analyze the dark square of the model like (X17, X63), (X33, X50), we find that:"
   ]
  },
  {
   "cell_type": "code",
   "execution_count": 28,
   "metadata": {},
   "outputs": [
    {
     "data": {
      "text/plain": [
       "Text(0.5, 1.0, 'X17 vs X63')"
      ]
     },
     "execution_count": 28,
     "metadata": {},
     "output_type": "execute_result"
    },
    {
     "data": {
      "text/plain": [
       "<matplotlib.collections.PathCollection at 0x7fa23f4692b0>"
      ]
     },
     "execution_count": 28,
     "metadata": {},
     "output_type": "execute_result"
    },
    {
     "data": {
      "text/plain": [
       "Text(0.5, 0, 'X17')"
      ]
     },
     "execution_count": 28,
     "metadata": {},
     "output_type": "execute_result"
    },
    {
     "data": {
      "text/plain": [
       "Text(0, 0.5, 'X63')"
      ]
     },
     "execution_count": 28,
     "metadata": {},
     "output_type": "execute_result"
    },
    {
     "data": {
      "image/png": "[encoded data removed]",
      "text/plain": [
       "<Figure size 432x288 with 1 Axes>"
      ]
     },
     "metadata": {
      "needs_background": "light"
     },
     "output_type": "display_data"
    }
   ],
   "source": [
    "plt.title(\"X17 vs X63\")\n",
    "plt.scatter(clean_data_drop[\"X17\"], clean_data_drop[\"X63\"])\n",
    "plt.xlabel(\"X17\")\n",
    "plt.ylabel(\"X63\")\n",
    "plt.show()"
   ]
  },
  {
   "cell_type": "markdown",
   "metadata": {},
   "source": [
    "There is an outlier that make the relation between columns look like linear correlation! Once we drop the outlier, we can see that:"
   ]
  },
  {
   "cell_type": "code",
   "execution_count": 29,
   "metadata": {},
   "outputs": [
    {
     "data": {
      "text/plain": [
       "Text(0.5, 1.0, 'X17 vs X63 outlier dropped')"
      ]
     },
     "execution_count": 29,
     "metadata": {},
     "output_type": "execute_result"
    },
    {
     "data": {
      "text/plain": [
       "<matplotlib.collections.PathCollection at 0x7fa23f445a30>"
      ]
     },
     "execution_count": 29,
     "metadata": {},
     "output_type": "execute_result"
    },
    {
     "data": {
      "text/plain": [
       "Text(0.5, 0, 'X17')"
      ]
     },
     "execution_count": 29,
     "metadata": {},
     "output_type": "execute_result"
    },
    {
     "data": {
      "text/plain": [
       "Text(0, 0.5, 'X63')"
      ]
     },
     "execution_count": 29,
     "metadata": {},
     "output_type": "execute_result"
    },
    {
     "data": {
      "image/png": "[encoded data removed]",
      "text/plain": [
       "<Figure size 432x288 with 1 Axes>"
      ]
     },
     "metadata": {
      "needs_background": "light"
     },
     "output_type": "display_data"
    }
   ],
   "source": [
    "x = list(clean_data_drop[\"X17\"])\n",
    "y = list(clean_data_drop[\"X63\"])\n",
    "x.remove(max(x))\n",
    "x.remove(max(x))\n",
    "y.remove(max(y))\n",
    "y.remove(max(y))\n",
    "plt.title(\"X17 vs X63 outlier dropped\")\n",
    "plt.scatter(x, y)\n",
    "plt.xlabel(\"X17\")\n",
    "plt.ylabel(\"X63\")\n",
    "plt.show()"
   ]
  },
  {
   "cell_type": "markdown",
   "metadata": {},
   "source": [
    "Obviously, the data has little correlation between each other. Same things happen to nearly all the data. So we are not going to use PCA."
   ]
  },
  {
   "cell_type": "markdown",
   "metadata": {},
   "source": [
    "And we are going to use random forset model which is a selection model, so feature scaling is not necessary.\n",
    "\n",
    "# 3 Model Selection"
   ]
  },
  {
   "cell_type": "code",
   "execution_count": 30,
   "metadata": {},
   "outputs": [],
   "source": [
    "global rs \n",
    "\n",
    "rs = 42 #random_state"
   ]
  },
  {
   "cell_type": "code",
   "execution_count": 31,
   "metadata": {},
   "outputs": [],
   "source": [
    "from sklearn.ensemble import RandomForestClassifier\n",
    "from sklearn.pipeline import Pipeline\n",
    "from imblearn.pipeline import Pipeline, make_pipeline\n",
    "#from sklearn.pipeline import make_pipeline\n",
    "from sklearn.model_selection import train_test_split\n",
    "from sklearn.model_selection import cross_val_score\n",
    "from sklearn.model_selection import GridSearchCV\n",
    "from sklearn.naive_bayes import GaussianNB\n",
    "from sklearn.tree import DecisionTreeClassifier\n",
    "from sklearn.metrics import accuracy_score, precision_score, recall_score\n",
    "from sklearn.metrics import classification_report\n",
    "from sklearn.metrics import plot_precision_recall_curve\n",
    "import warnings;\n",
    "warnings.simplefilter('ignore')"
   ]
  },
  {
   "cell_type": "code",
   "execution_count": 32,
   "metadata": {},
   "outputs": [],
   "source": [
    "def getScores(estimator, x, y):\n",
    "    yPred = estimator.predict(x)\n",
    "    return(accuracy_score(y, yPred), \n",
    "           precision_score(y, yPred, pos_label=3, average='macro'),\n",
    "           recall_score(y,yPred,pos_label=3,average='macro'))\n",
    "\n",
    "def my_scorer(estimator,x,y):\n",
    "    a, p, r = getScores(estimator, x, y)\n",
    "    print(a, p, r)\n",
    "    return a+p+r\n",
    "\n",
    "def model_select(df):\n",
    "    models = [GaussianNB(), DecisionTreeClassifier(), RandomForestClassifier()]\n",
    "    names = [\"Naive Bayes\",\"Decision Tree\",\"Random Forest\"]\n",
    "    \n",
    "    features = df.iloc[:,:-2]\n",
    "    target = df.iloc[:,-2]\n",
    "    X_train, X_test, y_train, y_test = train_test_split(features, target, test_size = 0.1, random_state = rs)\n",
    "    \n",
    "    for model, name in zip(models, names):\n",
    "        print(name)\n",
    "        m = cross_val_score(model, X_train, y_train, scoring = my_scorer, cv=5).mean()\n",
    "        print('\\nSum:',m, '\\n\\n')\n",
    "    return X_train, X_test, y_train, y_test"
   ]
  },
  {
   "cell_type": "code",
   "execution_count": 33,
   "metadata": {},
   "outputs": [
    {
     "name": "stdout",
     "output_type": "stream",
     "text": [
      "Naive Bayes\n",
      "0.17119565217391305 0.5041030248577418 0.5148429035752979\n",
      "0.12907608695652173 0.4782301385354821 0.4374322860238353\n",
      "0.3016304347826087 0.504516317016317 0.5268689057421452\n",
      "0.25170068027210885 0.5178559886238769 0.5933802816901408\n",
      "0.745578231292517 0.5359461966604824 0.713943661971831\n",
      "\n",
      "Sum: 1.3852601580349642 \n",
      "\n",
      "\n",
      "Decision Tree\n",
      "0.9524456521739131 0.6473417721518987 0.6418743228602384\n",
      "0.9456521739130435 0.6115819209039548 0.6198266522210184\n",
      "0.9442934782608695 0.6072525971809003 0.6191224268689057\n",
      "0.9605442176870749 0.6933252581920184 0.6708450704225353\n",
      "0.9496598639455782 0.5996111181945684 0.5880281690140845\n",
      "\n",
      "Sum: 2.21028093879812 \n",
      "\n",
      "\n",
      "Random Forest\n",
      "0.967391304347826 0.8182648401826484 0.5755146262188515\n",
      "0.9660326086956522 0.8169622555707139 0.5377573131094258\n",
      "0.9605978260869565 0.6263962375073486 0.5349404117009751\n",
      "0.9714285714285714 0.9856361149110807 0.58\n",
      "0.9687074829931973 0.8599521203830369 0.5592957746478873\n",
      "\n",
      "Sum: 2.3457754975568346 \n",
      "\n",
      "\n"
     ]
    }
   ],
   "source": [
    "X_train_dropna, X_test_dropna, y_train_dropna, y_test_dropna = model_select(clean_data_dropna)"
   ]
  },
  {
   "cell_type": "code",
   "execution_count": 34,
   "metadata": {},
   "outputs": [
    {
     "name": "stdout",
     "output_type": "stream",
     "text": [
      "Naive Bayes\n",
      "0.1313364055299539 0.5170462387853693 0.5193335569719334\n",
      "0.11764705882352941 0.49504030452306313 0.49504030452306313\n",
      "0.12802768166089964 0.508104588258866 0.5090573219883565\n",
      "0.11764705882352941 0.49504030452306313 0.49504030452306313\n",
      "0.11764705882352941 0.49504030452306313 0.49504030452306313\n",
      "\n",
      "Sum: 1.1272177593608692 \n",
      "\n",
      "\n",
      "Decision Tree\n",
      "0.9147465437788018 0.640881136084088 0.640881136084088\n",
      "0.9181084198385236 0.6537857045237119 0.6511755485893417\n",
      "0.9158016147635525 0.6675210611220649 0.709270040304523\n",
      "0.9019607843137255 0.5901774704949797 0.5917039856695029\n",
      "0.9158016147635525 0.6569224604287718 0.6753694581280788\n",
      "\n",
      "Sum: 2.208821395777462 \n",
      "\n",
      "\n",
      "Random Forest\n",
      "0.9447004608294931 0.8582995951417004 0.5890640724589065\n",
      "0.9388696655132641 0.7448550260678679 0.6198835647111509\n",
      "0.9388696655132641 0.7472834857450241 0.6029332736229288\n",
      "0.9400230680507498 0.7676470588235293 0.5865987460815048\n",
      "0.9423298731257209 0.8192217618447126 0.5793551276309897\n",
      "\n",
      "Sum: 2.3239868890321618 \n",
      "\n",
      "\n"
     ]
    }
   ],
   "source": [
    "X_train_KNN, X_test_KNN, y_train_KNN, y_test_KNN = model_select(Imp_KNN_df)"
   ]
  },
  {
   "cell_type": "code",
   "execution_count": 35,
   "metadata": {},
   "outputs": [
    {
     "name": "stdout",
     "output_type": "stream",
     "text": [
      "Naive Bayes\n",
      "0.14170506912442396 0.5124753216692763 0.5163927093816393\n",
      "0.12341407151095732 0.4982651796778191 0.4981191222570533\n",
      "0.12572087658592848 0.5072180916976455 0.5078257948947604\n",
      "0.12341407151095732 0.4982651796778191 0.4981191222570533\n",
      "0.11764705882352941 0.5036391451485791 0.5035154500671742\n",
      "\n",
      "Sum: 1.1351472528569233 \n",
      "\n",
      "\n",
      "Decision Tree\n",
      "0.9101382488479263 0.6334328722042781 0.6468970144246897\n",
      "0.9284890426758939 0.7007797270955165 0.7075682937751904\n",
      "0.9158016147635525 0.6597622198007471 0.6838446036721899\n",
      "0.9146482122260668 0.6370358351490427 0.6323779668607254\n",
      "0.9204152249134948 0.6501615209447651 0.6269816390506046\n",
      "\n",
      "Sum: 2.2336668072809367 \n",
      "\n",
      "\n",
      "Random Forest\n",
      "0.9412442396313364 0.822027972027972 0.5617913451861791\n",
      "0.9388696655132641 0.7440192405925421 0.6283587102552619\n",
      "0.9423298731257209 0.7800587265608903 0.621730855351545\n",
      "0.9411764705882353 0.7860605170387779 0.5872145096283027\n",
      "0.9434832756632064 0.8307653659353542 0.5884460367218988\n",
      "\n",
      "Sum: 2.3315153607640973 \n",
      "\n",
      "\n"
     ]
    }
   ],
   "source": [
    "X_train_median, X_test_median, y_train_median, y_test_median = model_select(Imp_median_df)"
   ]
  },
  {
   "cell_type": "code",
   "execution_count": 36,
   "metadata": {
    "scrolled": false
   },
   "outputs": [
    {
     "name": "stdout",
     "output_type": "stream",
     "text": [
      "Naive Bayes\n",
      "0.14170506912442396 0.5124753216692763 0.5163927093816393\n",
      "0.12341407151095732 0.4982651796778191 0.4981191222570533\n",
      "0.12572087658592848 0.5072180916976455 0.5078257948947604\n",
      "0.12341407151095732 0.4982651796778191 0.4981191222570533\n",
      "0.11764705882352941 0.5036391451485791 0.5035154500671742\n",
      "\n",
      "Sum: 1.1351472528569233 \n",
      "\n",
      "\n",
      "Decision Tree\n",
      "0.9158986175115207 0.6439393939393939 0.6414961422341496\n",
      "0.9261822376009228 0.6913905133203379 0.6978616211374832\n",
      "0.9215686274509803 0.6819201995012469 0.7123488580385132\n",
      "0.9111880046136102 0.6241629082957496 0.6220555306762203\n",
      "0.9273356401384083 0.6912930627654554 0.6815270935960591\n",
      "\n",
      "Sum: 2.25803369016401 \n",
      "\n",
      "\n",
      "Random Forest\n",
      "0.9389400921658986 0.7581967213114754 0.5690372358269037\n",
      "0.9446366782006921 0.7921957671957672 0.6483878190774742\n",
      "0.9423298731257209 0.7800587265608903 0.621730855351545\n",
      "0.9469434832756632 0.8747652582159624 0.607243618450515\n",
      "0.9434832756632064 0.8307653659353542 0.5884460367218988\n",
      "\n",
      "Sum: 2.3574321614157934 \n",
      "\n",
      "\n"
     ]
    }
   ],
   "source": [
    "X_train_mean, X_test_mean, y_train_mean, y_test_mean = model_select(Imp_median_df)"
   ]
  },
  {
   "cell_type": "markdown",
   "metadata": {},
   "source": [
    "These are tests that implement 3 different model: Gaussian Naive Bayes, Decicion Tree and Random Forest. We first look at them without oversampling in four different missing data methods. From the cross valuation result above, we can see that the random forest model has the highest score and the mean imputation has the best performance.\n",
    "\n",
    "Then, we are going to test the model using oversampling method SMOTE from imblearn and let's see what it will be."
   ]
  },
  {
   "cell_type": "code",
   "execution_count": 37,
   "metadata": {},
   "outputs": [],
   "source": [
    "def model_select_imb(df):\n",
    "    models = [GaussianNB(), DecisionTreeClassifier(), RandomForestClassifier()]\n",
    "    names = [\"Naive Bayes\",\"Decision Tree\",\"Random Forest\"]\n",
    "    \n",
    "    features = df.iloc[:,:-2]\n",
    "    target = df.iloc[:,-2]\n",
    "    X_train, X_test, y_train, y_test = train_test_split(features, target, test_size = 0.1, random_state = rs)\n",
    "    \n",
    "    \n",
    "    for model, name in zip(models, names):\n",
    "        print(name)\n",
    "        imba_pipeline = make_pipeline(SMOTE(), model)\n",
    "        m = cross_val_score(imba_pipeline, X_train, y_train, scoring = my_scorer, cv=5).mean()\n",
    "        print('\\nSum:',m, '\\n\\n')\n",
    "    return X_train, X_test, y_train, y_test"
   ]
  },
  {
   "cell_type": "code",
   "execution_count": 38,
   "metadata": {},
   "outputs": [
    {
     "name": "stdout",
     "output_type": "stream",
     "text": [
      "Naive Bayes\n",
      "0.12672811059907835 0.5158073369508286 0.5168735323716873\n",
      "0.12110726643598616 0.4893122676579926 0.48841244961934616\n",
      "0.12687427912341406 0.499970386164416 0.49996641289744737\n",
      "0.11764705882352941 0.49504030452306313 0.49504030452306313\n",
      "0.11418685121107267 0.5115231990231991 0.5101433049708912\n",
      "\n",
      "Sum: 1.1257266129790031 \n",
      "\n",
      "\n",
      "Decision Tree\n",
      "0.9112903225806451 0.6491176470588236 0.6814156323381415\n",
      "0.8985005767012687 0.6546092598816018 0.7678347514554411\n",
      "0.8961937716262975 0.6466422032828283 0.7496529332736229\n",
      "0.9100346020761245 0.6647790140152446 0.7400918047469771\n",
      "0.895040369088812 0.631981981981982 0.7066614420062696\n",
      "\n",
      "Sum: 2.280769262422816 \n",
      "\n",
      "\n",
      "Random Forest\n",
      "0.9504608294930875 0.807487922705314 0.7277535502627753\n",
      "0.9296424452133795 0.7047186013739651 0.7081840573219883\n",
      "0.9446366782006921 0.7683823529411764 0.750089565606807\n",
      "0.9400230680507498 0.7478603792582648 0.764576802507837\n",
      "0.9423298731257209 0.7576143896898614 0.7488580385132109\n",
      "\n",
      "Sum: 2.4385237108529663 \n",
      "\n",
      "\n"
     ]
    }
   ],
   "source": [
    "X_train, X_test, y_train, y_test = model_select_imb(Imp_mean_df)"
   ]
  },
  {
   "cell_type": "markdown",
   "metadata": {},
   "source": [
    "The result of SMOTE oversampling method is better than the original one, let's train a model and see what is going on in the test set."
   ]
  },
  {
   "cell_type": "code",
   "execution_count": 39,
   "metadata": {},
   "outputs": [
    {
     "data": {
      "text/plain": [
       "RandomForestClassifier()"
      ]
     },
     "execution_count": 39,
     "metadata": {},
     "output_type": "execute_result"
    }
   ],
   "source": [
    "features = Imp_mean_df.iloc[:,:-2]\n",
    "target = Imp_mean_df.iloc[:,-2]\n",
    "X_train, X_test, y_train, y_test = train_test_split(features, target, test_size = 0.1, random_state = rs)\n",
    "\n",
    "X_train_res, y_train_res = SMOTE().fit_sample(X_train, y_train)\n",
    "\n",
    "rfc_res = RandomForestClassifier()\n",
    "rfc_res.fit(X_train_res, y_train_res)"
   ]
  },
  {
   "cell_type": "code",
   "execution_count": 40,
   "metadata": {},
   "outputs": [],
   "source": [
    "y_pred_res = rfc_res.predict(X_test)"
   ]
  },
  {
   "cell_type": "code",
   "execution_count": 41,
   "metadata": {},
   "outputs": [],
   "source": [
    "accuracy_res = accuracy_score(y_test, y_pred_res)\n",
    "precision_res = precision_score(y_test, y_pred_res)\n",
    "recall_res = recall_score(y_test, y_pred_res)"
   ]
  },
  {
   "cell_type": "code",
   "execution_count": 42,
   "metadata": {},
   "outputs": [
    {
     "name": "stdout",
     "output_type": "stream",
     "text": [
      "accuracy: 0.9315352697095436\n",
      "precision: 0.5\n",
      "recall: 0.48484848484848486\n"
     ]
    }
   ],
   "source": [
    "print(\"accuracy:\" ,accuracy_res)\n",
    "print(\"precision:\" ,precision_res)\n",
    "print(\"recall:\" ,recall_res)"
   ]
  },
  {
   "cell_type": "code",
   "execution_count": 43,
   "metadata": {},
   "outputs": [
    {
     "data": {
      "text/plain": [
       "Text(0.5, 1.0, 'rfc + oversample ')"
      ]
     },
     "execution_count": 43,
     "metadata": {},
     "output_type": "execute_result"
    },
    {
     "data": {
      "image/png": "[encoded data removed]",
      "text/plain": [
       "<Figure size 432x288 with 1 Axes>"
      ]
     },
     "metadata": {
      "needs_background": "light"
     },
     "output_type": "display_data"
    }
   ],
   "source": [
    "disp = plot_precision_recall_curve(rfc_res, X_test, y_test)\n",
    "disp.ax_.set_title('rfc + oversample ')"
   ]
  },
  {
   "cell_type": "markdown",
   "metadata": {},
   "source": [
    "Well, maybe the result is not satisfied. Let's see the model without SMOTE."
   ]
  },
  {
   "cell_type": "code",
   "execution_count": 44,
   "metadata": {},
   "outputs": [
    {
     "data": {
      "text/plain": [
       "RandomForestClassifier()"
      ]
     },
     "execution_count": 44,
     "metadata": {},
     "output_type": "execute_result"
    }
   ],
   "source": [
    "rfc = RandomForestClassifier()\n",
    "rfc.fit(X_train, y_train)"
   ]
  },
  {
   "cell_type": "code",
   "execution_count": 45,
   "metadata": {},
   "outputs": [],
   "source": [
    "y_pred = rfc.predict(X_test)"
   ]
  },
  {
   "cell_type": "code",
   "execution_count": 46,
   "metadata": {},
   "outputs": [],
   "source": [
    "accuracy = accuracy_score(y_test, y_pred)\n",
    "precision = precision_score(y_test, y_pred)\n",
    "recall = recall_score(y_test, y_pred)"
   ]
  },
  {
   "cell_type": "code",
   "execution_count": 47,
   "metadata": {},
   "outputs": [
    {
     "name": "stdout",
     "output_type": "stream",
     "text": [
      "accuracy: 0.9522821576763485\n",
      "precision: 0.8571428571428571\n",
      "recall: 0.36363636363636365\n"
     ]
    }
   ],
   "source": [
    "print(\"accuracy:\" ,accuracy)\n",
    "print(\"precision:\" ,precision)\n",
    "print(\"recall:\" ,recall)"
   ]
  },
  {
   "cell_type": "markdown",
   "metadata": {},
   "source": [
    "The precision is improved but recall is worse. Maybe we should focus on the parameter of Random Forest."
   ]
  },
  {
   "cell_type": "code",
   "execution_count": 48,
   "metadata": {},
   "outputs": [
    {
     "data": {
      "text/plain": [
       "0.34909090909090906"
      ]
     },
     "execution_count": 48,
     "metadata": {},
     "output_type": "execute_result"
    }
   ],
   "source": [
    "rfc_grid = RandomForestClassifier()\n",
    "params = {\n",
    "    'n_estimators':[30, 50, 100, 200],\n",
    "    'max_depth':[4,6,10,12]\n",
    "}\n",
    "grid_rfc = GridSearchCV(rfc_grid, param_grid=params, cv=5, scoring = 'recall').fit(X_train, y_train)\n",
    "grid_rfc.best_score_"
   ]
  },
  {
   "cell_type": "code",
   "execution_count": 49,
   "metadata": {},
   "outputs": [],
   "source": [
    "y_pred_grid = grid_rfc.predict(X_test)"
   ]
  },
  {
   "cell_type": "code",
   "execution_count": 50,
   "metadata": {},
   "outputs": [
    {
     "data": {
      "text/plain": [
       "{'max_depth': 12, 'n_estimators': 30}"
      ]
     },
     "execution_count": 50,
     "metadata": {},
     "output_type": "execute_result"
    }
   ],
   "source": [
    "grid_rfc.best_params_"
   ]
  },
  {
   "cell_type": "code",
   "execution_count": 51,
   "metadata": {
    "scrolled": true
   },
   "outputs": [
    {
     "data": {
      "text/plain": [
       "Text(0.5, 1.0, 'Grid but not oversample ')"
      ]
     },
     "execution_count": 51,
     "metadata": {},
     "output_type": "execute_result"
    },
    {
     "data": {
      "image/png": "[encoded data removed]",
      "text/plain": [
       "<Figure size 432x288 with 1 Axes>"
      ]
     },
     "metadata": {
      "needs_background": "light"
     },
     "output_type": "display_data"
    }
   ],
   "source": [
    "disp = plot_precision_recall_curve(grid_rfc, X_test, y_test)\n",
    "disp.ax_.set_title('Grid but not oversample ')"
   ]
  },
  {
   "cell_type": "markdown",
   "metadata": {},
   "source": [
    "Then let us look at the SMOTE data:"
   ]
  },
  {
   "cell_type": "code",
   "execution_count": 52,
   "metadata": {},
   "outputs": [
    {
     "data": {
      "text/plain": [
       "0.9862096231799755"
      ]
     },
     "execution_count": 52,
     "metadata": {},
     "output_type": "execute_result"
    }
   ],
   "source": [
    "features = Imp_mean_df.iloc[:,:-2]\n",
    "target = Imp_mean_df.iloc[:,-2]\n",
    "X_train, X_test, y_train, y_test = train_test_split(features, target, test_size = 0.1, random_state = rs)\n",
    "\n",
    "X_train_res, y_train_res = SMOTE().fit_sample(X_train, y_train)\n",
    "\n",
    "rfc = RandomForestClassifier()\n",
    "grid_res = GridSearchCV(rfc_grid, param_grid=params, cv=5, scoring = 'recall').fit(X_train_res, y_train_res)\n",
    "grid_res.best_score_"
   ]
  },
  {
   "cell_type": "code",
   "execution_count": 53,
   "metadata": {},
   "outputs": [
    {
     "data": {
      "text/plain": [
       "{'max_depth': 12, 'n_estimators': 200}"
      ]
     },
     "execution_count": 53,
     "metadata": {},
     "output_type": "execute_result"
    }
   ],
   "source": [
    "grid_res.best_params_"
   ]
  },
  {
   "cell_type": "code",
   "execution_count": 54,
   "metadata": {},
   "outputs": [
    {
     "data": {
      "text/plain": [
       "Text(0.5, 1.0, 'Grid & oversample ')"
      ]
     },
     "execution_count": 54,
     "metadata": {},
     "output_type": "execute_result"
    },
    {
     "data": {
      "image/png": "[encoded data removed]",
      "text/plain": [
       "<Figure size 432x288 with 1 Axes>"
      ]
     },
     "metadata": {
      "needs_background": "light"
     },
     "output_type": "display_data"
    }
   ],
   "source": [
    "disp = plot_precision_recall_curve(grid_res, X_test, y_test)\n",
    "disp.ax_.set_title('Grid & oversample ')"
   ]
  },
  {
   "cell_type": "code",
   "execution_count": 55,
   "metadata": {},
   "outputs": [
    {
     "data": {
      "text/plain": [
       "0.9533927711450438"
      ]
     },
     "execution_count": 55,
     "metadata": {},
     "output_type": "execute_result"
    }
   ],
   "source": [
    "grid_res_precision = GridSearchCV(rfc_grid, param_grid=params, cv=5, scoring = 'precision').fit(X_train_res, y_train_res)\n",
    "grid_res_precision.best_score_"
   ]
  },
  {
   "cell_type": "code",
   "execution_count": 56,
   "metadata": {},
   "outputs": [
    {
     "data": {
      "text/plain": [
       "{'max_depth': 12, 'n_estimators': 30}"
      ]
     },
     "execution_count": 56,
     "metadata": {},
     "output_type": "execute_result"
    }
   ],
   "source": [
    "grid_res_precision.best_params_"
   ]
  },
  {
   "cell_type": "markdown",
   "metadata": {},
   "source": [
    "So the best model is Random Forest with n_estimator = 100 and max_depth = 12.\n",
    "\n",
    "# 4 Feautures importance"
   ]
  },
  {
   "cell_type": "code",
   "execution_count": 76,
   "metadata": {
    "scrolled": false
   },
   "outputs": [
    {
     "data": {
      "text/plain": [
       "<Figure size 1080x1080 with 0 Axes>"
      ]
     },
     "execution_count": 76,
     "metadata": {},
     "output_type": "execute_result"
    },
    {
     "data": {
      "text/plain": [
       "Text(0.5, 1.0, 'Features importance')"
      ]
     },
     "execution_count": 76,
     "metadata": {},
     "output_type": "execute_result"
    },
    {
     "data": {
      "text/plain": [
       "[Text(0, 0, 'X27'),\n",
       " Text(0, 0, 'X6'),\n",
       " Text(0, 0, 'X38'),\n",
       " Text(0, 0, 'X35'),\n",
       " Text(0, 0, 'X22'),\n",
       " Text(0, 0, 'X54'),\n",
       " Text(0, 0, 'X40'),\n",
       " Text(0, 0, 'X15'),\n",
       " Text(0, 0, 'X26'),\n",
       " Text(0, 0, 'X25'),\n",
       " Text(0, 0, 'X16'),\n",
       " Text(0, 0, 'X29'),\n",
       " Text(0, 0, 'X1'),\n",
       " Text(0, 0, 'X45'),\n",
       " Text(0, 0, 'X21'),\n",
       " Text(0, 0, 'X34'),\n",
       " Text(0, 0, 'X41'),\n",
       " Text(0, 0, 'X60'),\n",
       " Text(0, 0, 'X18'),\n",
       " Text(0, 0, 'X11'),\n",
       " Text(0, 0, 'X13'),\n",
       " Text(0, 0, 'X37'),\n",
       " Text(0, 0, 'X10'),\n",
       " Text(0, 0, 'X24'),\n",
       " Text(0, 0, 'X63'),\n",
       " Text(0, 0, 'X50'),\n",
       " Text(0, 0, 'X59'),\n",
       " Text(0, 0, 'X9'),\n",
       " Text(0, 0, 'X55'),\n",
       " Text(0, 0, 'X23'),\n",
       " Text(0, 0, 'X53'),\n",
       " Text(0, 0, 'X28'),\n",
       " Text(0, 0, 'X12'),\n",
       " Text(0, 0, 'X43'),\n",
       " Text(0, 0, 'X47'),\n",
       " Text(0, 0, 'X2'),\n",
       " Text(0, 0, 'X14'),\n",
       " Text(0, 0, 'X3'),\n",
       " Text(0, 0, 'X44'),\n",
       " Text(0, 0, 'X17'),\n",
       " Text(0, 0, 'X52'),\n",
       " Text(0, 0, 'X36'),\n",
       " Text(0, 0, 'X57'),\n",
       " Text(0, 0, 'X19'),\n",
       " Text(0, 0, 'X58'),\n",
       " Text(0, 0, 'X5'),\n",
       " Text(0, 0, 'X20'),\n",
       " Text(0, 0, 'X49'),\n",
       " Text(0, 0, 'X46'),\n",
       " Text(0, 0, 'X56'),\n",
       " Text(0, 0, 'X4'),\n",
       " Text(0, 0, 'X30'),\n",
       " Text(0, 0, 'X39'),\n",
       " Text(0, 0, 'X42'),\n",
       " Text(0, 0, 'X61'),\n",
       " Text(0, 0, 'X8'),\n",
       " Text(0, 0, 'X48'),\n",
       " Text(0, 0, 'X32'),\n",
       " Text(0, 0, 'X7'),\n",
       " Text(0, 0, 'X31'),\n",
       " Text(0, 0, 'X33'),\n",
       " Text(0, 0, 'X62'),\n",
       " Text(0, 0, 'X51')]"
      ]
     },
     "execution_count": 76,
     "metadata": {},
     "output_type": "execute_result"
    },
    {
     "data": {
      "image/png": "[encoded data removed]",
      "text/plain": [
       "<Figure size 1080x1080 with 1 Axes>"
      ]
     },
     "metadata": {
      "needs_background": "light"
     },
     "output_type": "display_data"
    }
   ],
   "source": [
    "tmp = pd.DataFrame({'Feature':data.iloc[:,:-3].columns, 'Feature importance':rfc_res.feature_importances_})\n",
    "tmp = tmp.sort_values(by='Feature importance', ascending=False)\n",
    "plt.figure(figsize=(15,15))\n",
    "plt.title('Features importance',fontsize=14)\n",
    "s = sns.barplot(x = 'Feature', y='Feature importance',data = tmp)\n",
    "s.set_xticklabels(s.get_xticklabels(), rotation=90)\n",
    "plt.show()"
   ]
  },
  {
   "cell_type": "markdown",
   "metadata": {},
   "source": [
    "We can see that the most importance features are X27:profit on operating activities / financial expenses, X6:retained earnings / total assets, X38:constant capital / total assets, which are quite make sense."
   ]
  },
  {
   "cell_type": "markdown",
   "metadata": {},
   "source": [
    "## Submission guidelines\n",
    "\n",
    "Although your notebook may contain many models (e.g., due to your iterative development)\n",
    "we will only evaluate a single model.\n",
    "So choose one (explain why !) and do the following.\n",
    "\n",
    "- You will implement the body of a subroutine `MyModel`\n",
    "    - That takes as argument a Pandas DataFrame \n",
    "        - Each row is an example on which to predict\n",
    "        - The features of the example are elements of the row\n",
    "    - Performs predictions on each example\n",
    "    - Returns an array or predictions with a one-to-one correspondence with the examples in the test set\n",
    "    "
   ]
  },
  {
   "cell_type": "markdown",
   "metadata": {},
   "source": [
    "We will evaluate your model against the holdout data\n",
    "- By reading the holdout examples `X_hold` (as above)\n",
    "- Calling `y_hold_pred = MyModel(X_hold)` to get the predictions\n",
    "- Comparing the predicted values `y_hold_pred` against the true labels `y_hold` which are known only to the instructors\n",
    "\n",
    "See the following cell as an illustration"
   ]
  },
  {
   "cell_type": "raw",
   "metadata": {},
   "source": [
    "X_hold = pd.read_csv( os.path.join(DATA_DIR, \"holdout\", '5th_yr.csv') )\n",
    "\n",
    "# Predict using MyModel\n",
    "y_hold_pred = MyModel(X_hold)\n",
    "\n",
    "# Compute metrics\n",
    "# accuracy\n",
    "accuracy_hold = accuracy_score(y_hold, y_hold_pred)\n",
    "\n",
    "# recall_\n",
    "recall_hold = recall_score(y_hold, y_hold_pred, pos_label=1, average=\"binary\")\n",
    "\n",
    "# precision\n",
    "precision_hold = precision_score(y_hold,   y_hold_pred, pos_label=1, average=\"binary\")\n",
    "\n",
    "\n",
    "print(\"\\t{m:s} Accuracy: {a:3.1%}, Recall {r:3.1%}, Precision {p:3.1%}\".format(m=name,\n",
    "                                                                            a=accuracy_hold,\n",
    "                                                                            r=recall_hold,\n",
    "                                                                            p=precision_hold\n",
    "                                                                            )\n",
    "         )"
   ]
  },
  {
   "cell_type": "markdown",
   "metadata": {},
   "source": [
    "**Remember**\n",
    "\n",
    "The holdout data is in the same format as the one we used for training\n",
    "- Except that it has no attribute for the target\n",
    "- So you will need to perform all the transformations on the holdout data\n",
    "    - As you did on the training data\n",
    "    - Including turning the string representation of numbers into actual numeric data types\n",
    "\n",
    "All of this work *must* be performed within the body of the `MyModel` routine you will write\n",
    "\n",
    "We will grade you by comparing the predictions array you create to the answers known to us."
   ]
  },
  {
   "cell_type": "code",
   "execution_count": 62,
   "metadata": {},
   "outputs": [],
   "source": [
    "\n",
    "import pandas as pd\n",
    "import os\n",
    "from sklearn.impute import SimpleImputer\n",
    "from sklearn.ensemble import RandomForestClassifier\n",
    "from imblearn.over_sampling import SMOTE\n",
    "from sklearn.impute import SimpleImputer\n",
    "from sklearn.model_selection import train_test_split\n",
    "from sklearn.model_selection import cross_val_score\n",
    "from sklearn.model_selection import GridSearchCV\n",
    "\n",
    "\n",
    "def MyModel(X):\n",
    "    # It should create an array of predictions; we initialize it to the empty array for convenience\n",
    "    predictions = []\n",
    "    \n",
    "    # YOUR CODE GOES HERE\n",
    "    \n",
    "    #make those string type data numerial\n",
    "    clean_data = data.copy(deep = True)\n",
    "    for i in range(len(data)):\n",
    "        clean_data.loc[i] = pd.to_numeric(data.loc[i] ,errors = \"coerce\")\n",
    "#     for i in range(len(clean_data)):\n",
    "#         clean_data.loc[i] = pd.to_numeric(clean_data.loc[i])\n",
    "    clean_data = clean_data.astype(\"float\")\n",
    "    \n",
    "    #drop column X37\n",
    "    clean_data_drop = clean_data.drop([\"X37\"],axis = 1)\n",
    "    \n",
    "    #impute missing data using mean method\n",
    "    Imp_mean = SimpleImputer(missing_values = np.nan, strategy=\"mean\")\n",
    "    Imp_mean_df = pd.DataFrame(Imp_mean.fit_transform(clean_data_drop))\n",
    "    Imp_mean_df.columns = clean_data_drop.columns\n",
    "    features = Imp_mean_df.iloc[:,:-1]\n",
    "\n",
    "    #training set\n",
    "    features = Imp_mean_df.iloc[:,:-2]\n",
    "    target = Imp_mean_df.iloc[:,-2]\n",
    "    \n",
    "    #Oversample\n",
    "    X_train_res, y_train_res = SMOTE().fit_sample(features, target)\n",
    "    \n",
    "    #Random Forest \n",
    "    rfc_grid = RandomForestClassifier()\n",
    "    params = {\n",
    "        'n_estimators':[30, 50, 100, 200],\n",
    "        'max_depth':[4,6,10,12]\n",
    "    }\n",
    "\n",
    "    #GridSearchCV\n",
    "    grid_res = GridSearchCV(rfc_grid, param_grid=params, cv=5, scoring = 'recall').fit(X_train_res, y_train_res)\n",
    "    \n",
    "    #repeat the steps above to predict X\n",
    "    #make those string type data numerial\n",
    "    clean_X = X.copy(deep = True)\n",
    "    for i in range(len(X)):\n",
    "        clean_X.loc[i] = pd.to_numeric(X.loc[i] ,errors = \"coerce\")\n",
    "#     for i in range(len(X)):\n",
    "#         clean_X.loc[i] = pd.to_numeric(clean_X.loc[i])\n",
    "    clean_X = clean_X.astype(\"float\")\n",
    "    \n",
    "    #drop column X37\n",
    "    clean_X_drop = clean_X.drop([\"X37\"],axis = 1)\n",
    "    \n",
    "    #impute missing data using mean method\n",
    "    Imp_mean_X = SimpleImputer(missing_values = np.nan, strategy=\"mean\")\n",
    "    Imp_mean_X = pd.DataFrame(Imp_mean_X.fit_transform(clean_X_drop))\n",
    "    Imp_mean_X.columns = clean_X_drop.columns\n",
    "    features_X = Imp_mean_X.iloc[:,:-1]\n",
    "    \n",
    "    predictions = grid_res.predict(features_X)\n",
    "    \n",
    "    return predictions\n",
    "\n"
   ]
  },
  {
   "cell_type": "markdown",
   "metadata": {},
   "source": [
    "# Check your work: predict and evaluate metrics on *your* test examples\n",
    "\n",
    "Although only the instructors have the correct labels for the holdout dataset, you may want\n",
    "to create your own test dataset on which to evaluate your out of sample metrics.\n",
    "\n",
    "If you choose to do so, you can evaluate your models using the same metrics that the instructors will use.\n",
    "\n",
    "- Test whether your implementation of `MyModel` works\n",
    "- See the metrics  your model produces"
   ]
  },
  {
   "cell_type": "code",
   "execution_count": 63,
   "metadata": {},
   "outputs": [],
   "source": [
    "name = \"Choose a descriptive name for your model\"\n",
    "features = data.iloc[:,:-2]\n",
    "target = data.iloc[:,-2]\n",
    "X_train, X_test, y_train, y_test = train_test_split(features, target, test_size = 0.1, random_state = 42)\n",
    "X_hold = pd.read_csv( os.path.join(DATA_DIR, \"holdout\", '5th_yr.csv') )\n",
    "y_test_pred = MyModel(X_hold)\n",
    "\n",
    "accuracy_test = accuracy_score(y_test, y_test_pred)\n",
    "recall_test = recall_score(y_test, y_test_pred, pos_label=1, average=\"binary\")\n",
    "precision_test = precision_score(y_test,   y_test_pred, pos_label=1, average=\"binary\")\n",
    "\n",
    "print(\"\\t{m:s} Accuracy: {a:3.1%}, Recall {r:3.1%}, Precision {p:3.1%}\".format(m=name,\n",
    "                                                                            a=accuracy_test,\n",
    "                                                                            r=recall_test,\n",
    "                                                                            p=precision_test\n",
    "                                                                            )\n",
    "         )"
   ]
  },
  {
   "cell_type": "markdown",
   "metadata": {},
   "source": [
    "# Citation\n",
    "\n",
    "https://github.com/ResidentMario/missingno\n",
    "\n",
    "https://www.kaggle.com/gpreda/credit-card-fraud-detection-predictive-models\n",
    "\n",
    "https://github.com/smaddikonda/\n",
    "\n",
    "https://scikit-learn.org/stable/modules/impute.html"
   ]
  }
 ],
 "metadata": {
  "kernelspec": {
   "display_name": "Python 3",
   "language": "python",
   "name": "python3"
  },
  "language_info": {
   "codemirror_mode": {
    "name": "ipython",
    "version": 3
   },
   "file_extension": ".py",
   "mimetype": "text/x-python",
   "name": "python",
   "nbconvert_exporter": "python",
   "pygments_lexer": "ipython3",
   "version": "3.8.3"
  },
  "toc": {
   "base_numbering": 1,
   "nav_menu": {},
   "number_sections": true,
   "sideBar": true,
   "skip_h1_title": false,
   "title_cell": "Table of Contents",
   "title_sidebar": "Contents",
   "toc_cell": false,
   "toc_position": {
    "height": "calc(100% - 180px)",
    "left": "10px",
    "top": "150px",
    "width": "370.594px"
   },
   "toc_section_display": true,
   "toc_window_display": true
  }
 },
 "nbformat": 4,
 "nbformat_minor": 2
}
